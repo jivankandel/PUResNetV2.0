{
 "cells": [
  {
   "cell_type": "code",
   "execution_count": 1,
   "id": "eefd6d44-1783-4bfc-b6da-21e75519dccf",
   "metadata": {},
   "outputs": [
    {
     "name": "stderr",
     "output_type": "stream",
     "text": [
      "/home/jeevan/anaconda3/envs/sparseconv/lib/python3.10/site-packages/MinkowskiEngine-0.5.4-py3.10-linux-x86_64.egg/MinkowskiEngine/__init__.py:36: UserWarning: The environment variable `OMP_NUM_THREADS` not set. MinkowskiEngine will automatically set `OMP_NUM_THREADS=16`. If you want to set `OMP_NUM_THREADS` manually, please export it on the command line before running a python script. e.g. `export OMP_NUM_THREADS=12; python your_program.py`. It is recommended to set it below 24.\n",
      "  warnings.warn(\n"
     ]
    }
   ],
   "source": [
    "from puresnet.sparse import get_data,get_coordinates_features,get_HET_ATOM\n",
    "from puresnet.dataset import SparseDataset,get_trainVal_loder,custom_collation_fn\n",
    "import MinkowskiEngine as ME\n",
    "from torch.utils.data import DataLoader"
   ]
  },
  {
   "cell_type": "markdown",
   "id": "d726419d-c733-4e13-a21c-0c27d47d54b8",
   "metadata": {
    "tags": []
   },
   "source": [
    "# Parsing pdb file to create sparse tensor    "
   ]
  },
  {
   "cell_type": "code",
   "execution_count": 2,
   "id": "62640ce2-2cad-4df1-9f6d-26b62b71a24e",
   "metadata": {},
   "outputs": [],
   "source": [
    "prot_dic,prot_chains=get_data(pdb_file='7W15',rscb=True) # pdb_path can be provided but rscb should be False"
   ]
  },
  {
   "cell_type": "code",
   "execution_count": 3,
   "id": "fc8ac91e-b982-4d00-8fe6-041ee5e0d4ea",
   "metadata": {},
   "outputs": [],
   "source": [
    "sparse_coord,sparse_feature,information=get_coordinates_features(vertex_dict=prot_dic,chain=prot_chains)"
   ]
  },
  {
   "cell_type": "markdown",
   "id": "e497ee8c-eeb2-4456-aa96-0b99e60f3c3e",
   "metadata": {
    "tags": []
   },
   "source": [
    "### sparse_coord is coordinate of the atoms, sparse_feature is features of each atoms, information is raw information of atoms as in pdb file. "
   ]
  },
  {
   "cell_type": "code",
   "execution_count": 4,
   "id": "8bfa5a37-e5b3-47b8-8866-94e875bb049c",
   "metadata": {},
   "outputs": [
    {
     "data": {
      "text/plain": [
       "(tensor([[ 0, 16, 35],\n",
       "         [ 1, 14, 34],\n",
       "         [ 1, 15, 36],\n",
       "         ...,\n",
       "         [95, 48, 37],\n",
       "         [95, 50, 51],\n",
       "         [96, 45, 37]]),\n",
       " tensor([[0., 1., 0.,  ..., 0., 0., 0.],\n",
       "         [0., 1., 0.,  ..., 0., 0., 0.],\n",
       "         [0., 1., 0.,  ..., 0., 0., 0.],\n",
       "         ...,\n",
       "         [0., 0., 0.,  ..., 1., 0., 0.],\n",
       "         [0., 0., 0.,  ..., 1., 1., 0.],\n",
       "         [0., 0., 0.,  ..., 1., 1., 0.]], dtype=torch.float64),\n",
       " array([['4717', 'CD1', 'C', ..., '-51.611', '-33.711', '28.831'],\n",
       "        ['4716', 'CG2', 'C', ..., '-50.239', '-36.05', '27.449'],\n",
       "        ['4715', 'CG1', 'C', ..., '-50.216', '-34.317', '29.152'],\n",
       "        ...,\n",
       "        ['1323', 'O', 'O', ..., '43.325', '-1.919', '30.697'],\n",
       "        ['1369', 'OE2', 'O', ..., '42.969', '0.789', '45.024'],\n",
       "        ['1325', 'OG', 'O', ..., '44.091', '-5.041', '30.497']],\n",
       "       dtype='<U32'))"
      ]
     },
     "execution_count": 4,
     "metadata": {},
     "output_type": "execute_result"
    }
   ],
   "source": [
    "sparse_coord,sparse_feature,information "
   ]
  },
  {
   "cell_type": "code",
   "execution_count": 5,
   "id": "11dcd09d-1fd2-4656-82b6-2b238ba62ccf",
   "metadata": {},
   "outputs": [],
   "source": [
    "ligand_dict=get_HET_ATOM(pdb_file='7W15',ligand_name='GTP',rscb=True)"
   ]
  },
  {
   "cell_type": "markdown",
   "id": "77d5dee2-0155-410e-ac49-ded45d4c681b",
   "metadata": {
    "tags": []
   },
   "source": [
    "### Ligand_dict is the coordinates of ligand present in PDB"
   ]
  },
  {
   "cell_type": "code",
   "execution_count": 6,
   "id": "1196b759-d8be-4e94-b94b-c7f558c3c842",
   "metadata": {},
   "outputs": [
    {
     "data": {
      "text/plain": [
       "{'402:B:GTP': [[18.926, 1.025, 23.536],\n",
       "  [18.059, 0.816, 24.748],\n",
       "  [19.499, -0.258, 23.004],\n",
       "  [19.976, 2.08, 23.749],\n",
       "  [17.948, 1.58, 22.378],\n",
       "  [17.96, 1.379, 20.79],\n",
       "  [19.049, 2.215, 20.216],\n",
       "  [17.919, -0.078, 20.494],\n",
       "  [16.555, 2.025, 20.378],\n",
       "  [15.047, 1.634, 20.752],\n",
       "  [14.571, 0.578, 19.813],\n",
       "  [14.98, 1.357, 22.214],\n",
       "  [14.278, 3.001, 20.434],\n",
       "  [14.668, 4.188, 21.161],\n",
       "  [13.452, 4.799, 21.811],\n",
       "  [12.415, 4.99, 20.819],\n",
       "  [12.766, 3.964, 22.895],\n",
       "  [13.42, 4.09, 24.15],\n",
       "  [11.374, 4.599, 22.913],\n",
       "  [11.327, 5.774, 23.691],\n",
       "  [11.148, 4.912, 21.435],\n",
       "  [10.35, 3.908, 20.746],\n",
       "  [10.808, 2.831, 20.03],\n",
       "  [9.844, 2.102, 19.523],\n",
       "  [8.68, 2.735, 19.937],\n",
       "  [7.324, 2.402, 19.694],\n",
       "  [6.874, 1.45, 19.044],\n",
       "  [6.459, 3.315, 20.297],\n",
       "  [6.847, 4.405, 21.035],\n",
       "  [5.869, 5.172, 21.535],\n",
       "  [8.12, 4.723, 21.266],\n",
       "  [8.978, 3.848, 20.69]],\n",
       " '402:A:GTP': [[-23.644, -28.07, 18.967],\n",
       "  [-24.063, -26.794, 18.292],\n",
       "  [-24.718, -29.124, 18.931],\n",
       "  [-23.099, -27.847, 20.352],\n",
       "  [-22.42, -28.649, 18.089],\n",
       "  [-22.024, -28.431, 16.556],\n",
       "  [-21.887, -26.97, 16.31],\n",
       "  [-22.945, -29.233, 15.707],\n",
       "  [-20.571, -29.101, 16.505],\n",
       "  [-19.177, -28.724, 17.2],\n",
       "  [-18.504, -27.659, 16.404],\n",
       "  [-19.417, -28.478, 18.649],\n",
       "  [-18.374, -30.097, 17.021],\n",
       "  [-18.95, -31.294, 17.585],\n",
       "  [-17.95, -31.929, 18.517],\n",
       "  [-16.706, -32.15, 17.809],\n",
       "  [-17.534, -31.098, 19.733],\n",
       "  [-18.474, -31.218, 20.792],\n",
       "  [-16.193, -31.742, 20.089],\n",
       "  [-16.348, -32.905, 20.873],\n",
       "  [-15.624, -32.077, 18.712],\n",
       "  [-14.667, -31.093, 18.22],\n",
       "  [-14.929, -30.008, 17.424],\n",
       "  [-13.861, -29.304, 17.142],\n",
       "  [-12.831, -29.966, 17.797],\n",
       "  [-11.446, -29.669, 17.857],\n",
       "  [-10.839, -28.731, 17.324],\n",
       "  [-10.757, -30.603, 18.631],\n",
       "  [-11.325, -31.68, 19.264],\n",
       "  [-10.5, -32.47, 19.963],\n",
       "  [-12.626, -31.964, 19.212],\n",
       "  [-13.315, -31.069, 18.464]]}"
      ]
     },
     "execution_count": 6,
     "metadata": {},
     "output_type": "execute_result"
    }
   ],
   "source": [
    "ligand_dict "
   ]
  },
  {
   "cell_type": "markdown",
   "id": "eb9f5857-0750-47b7-8a23-6bfaa372fdc8",
   "metadata": {
    "tags": []
   },
   "source": [
    "# Creating Custom SparseDataset\n",
    "## Dataset Directory structure"
   ]
  },
  {
   "cell_type": "markdown",
   "id": "93bee48c-0967-4896-a8f9-02f7da05e6db",
   "metadata": {},
   "source": [
    "<style>\n",
    ".folder {\n",
    "  display: flex;\n",
    "  align-items: center;\n",
    "  margin-left: 15px;\n",
    "}\n",
    "\n",
    ".file {\n",
    "  display: flex;\n",
    "  align-items: center;\n",
    "  margin-left: 30px;\n",
    "}\n",
    "\n",
    ".icon {\n",
    "  margin-right: 5px;\n",
    "}\n",
    "</style>\n",
    "\n",
    "<div class=\"folder\">\n",
    "  <span class=\"icon\">📂</span>sparse\n",
    "  <div class=\"folder\" style=\"margin-top: 5px; margin-left: 15px;\">\n",
    "    <span class=\"icon\">📂</span>PDBID\n",
    "    <div class=\"file\" style=\"margin-top: 5px; margin-left: 25px;\">\n",
    "      <span class=\"icon\">📄</span>coords.pt\n",
    "    </div>\n",
    "    <div class=\"file\" style=\"margin-top: 5px; margin-left: 25px;\">\n",
    "      <span class=\"icon\">📄</span>feat.pt\n",
    "    </div>\n",
    "    <div class=\"file\" style=\"margin-top: 5px; margin-left: 25px;\">\n",
    "      <span class=\"icon\">📄</span>label.pt\n",
    "    </div>\n",
    "  </div>\n",
    "</div>\n"
   ]
  },
  {
   "cell_type": "code",
   "execution_count": 7,
   "id": "b3830e78-8380-4583-9fe3-6cbe565de01f",
   "metadata": {},
   "outputs": [],
   "source": [
    "dataset=SparseDataset(path='sparse/')"
   ]
  },
  {
   "cell_type": "markdown",
   "id": "7f056011-3ec3-4d16-bb59-65922ed0d31f",
   "metadata": {
    "tags": []
   },
   "source": [
    "### You can write own custom_collation_fn according to requirement. Refer MinkowskiEngine Documentation (https://nvidia.github.io/MinkowskiEngine/overview.html)"
   ]
  },
  {
   "cell_type": "code",
   "execution_count": 8,
   "id": "7388923b-3327-42d0-81a5-7d149a4fdc12",
   "metadata": {},
   "outputs": [],
   "source": [
    "data_loder=DataLoader(dataset=dataset,batch_size=1,collate_fn=custom_collation_fn)"
   ]
  },
  {
   "cell_type": "code",
   "execution_count": 9,
   "id": "5a7ca510-1ab8-4e92-ae61-4adbdd15f726",
   "metadata": {},
   "outputs": [
    {
     "name": "stdout",
     "output_type": "stream",
     "text": [
      "SparseTensor(\n",
      "  coordinates=tensor([[  0, -84, -38,  36],\n",
      "        [  0, -83, -39,  36],\n",
      "        [  0, -83, -30,  26],\n",
      "        ...,\n",
      "        [  0,   0, -29,  56],\n",
      "        [  0,   0, -21,  59],\n",
      "        [  0,   0, -20,  58]], dtype=torch.int32)\n",
      "  features=tensor([[0., 0., 0.,  ..., 1., 1., 0.],\n",
      "        [0., 1., 0.,  ..., 0., 0., 0.],\n",
      "        [0., 0., 1.,  ..., 1., 1., 0.],\n",
      "        ...,\n",
      "        [0., 0., 0.,  ..., 1., 0., 0.],\n",
      "        [0., 1., 0.,  ..., 0., 0., 0.],\n",
      "        [0., 0., 1.,  ..., 1., 1., 0.]])\n",
      "  coordinate_map_key=coordinate map key:[1, 1, 1]\n",
      "  coordinate_manager=CoordinateMapManagerCPU(\n",
      "\t[1, 1, 1]:\tCoordinateMapCPU:8324x4\n",
      "\talgorithm=MinkowskiAlgorithm.DEFAULT\n",
      "  )\n",
      "  spatial dimension=3)\n"
     ]
    }
   ],
   "source": [
    "for x in data_loder:\n",
    "    coord,feature,label=x\n",
    "    inputs = ME.SparseTensor(feature, coordinates=coord)\n",
    "    print(inputs)\n",
    "    break"
   ]
  }
 ],
 "metadata": {
  "kernelspec": {
   "display_name": "Python 3 (ipykernel)",
   "language": "python",
   "name": "python3"
  },
  "language_info": {
   "codemirror_mode": {
    "name": "ipython",
    "version": 3
   },
   "file_extension": ".py",
   "mimetype": "text/x-python",
   "name": "python",
   "nbconvert_exporter": "python",
   "pygments_lexer": "ipython3",
   "version": "3.10.6"
  }
 },
 "nbformat": 4,
 "nbformat_minor": 5
}
