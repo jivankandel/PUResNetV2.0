{
 "cells": [
  {
   "cell_type": "markdown",
   "id": "d726419d-c733-4e13-a21c-0c27d47d54b8",
   "metadata": {},
   "source": [
    "# Creating Sparse Database"
   ]
  },
  {
   "cell_type": "code",
   "execution_count": 1,
   "id": "eefd6d44-1783-4bfc-b6da-21e75519dccf",
   "metadata": {},
   "outputs": [
    {
     "name": "stderr",
     "output_type": "stream",
     "text": [
      "/home/jeevan/anaconda3/envs/sparseconv/lib/python3.10/site-packages/MinkowskiEngine-0.5.4-py3.10-linux-x86_64.egg/MinkowskiEngine/__init__.py:36: UserWarning: The environment variable `OMP_NUM_THREADS` not set. MinkowskiEngine will automatically set `OMP_NUM_THREADS=16`. If you want to set `OMP_NUM_THREADS` manually, please export it on the command line before running a python script. e.g. `export OMP_NUM_THREADS=12; python your_program.py`. It is recommended to set it below 24.\n",
      "  warnings.warn(\n"
     ]
    }
   ],
   "source": [
    "from puresnet.sparse import get_data,get_coordinates_features,get_HET_ATOM\n",
    "from puresnet.dataset import SparseDataset,custom_collation_fn,get_trainVal_loder"
   ]
  },
  {
   "cell_type": "markdown",
   "id": "93bee48c-0967-4896-a8f9-02f7da05e6db",
   "metadata": {},
   "source": [
    "<style>\n",
    ".folder {\n",
    "  display: flex;\n",
    "  align-items: center;\n",
    "  margin-left: 15px;\n",
    "}\n",
    "\n",
    ".file {\n",
    "  display: flex;\n",
    "  align-items: center;\n",
    "  margin-left: 30px;\n",
    "}\n",
    "\n",
    ".icon {\n",
    "  margin-right: 5px;\n",
    "}\n",
    "</style>\n",
    "\n",
    "<div class=\"folder\">\n",
    "  <span class=\"icon\">📂</span>sparse\n",
    "  <div class=\"folder\" style=\"margin-top: 5px; margin-left: 15px;\">\n",
    "    <span class=\"icon\">📂</span>pdb\n",
    "    <div class=\"file\" style=\"margin-top: 5px; margin-left: 25px;\">\n",
    "      <span class=\"icon\">📄</span>coords.pt\n",
    "    </div>\n",
    "    <div class=\"file\" style=\"margin-top: 5px; margin-left: 25px;\">\n",
    "      <span class=\"icon\">📄</span>feat.pt\n",
    "    </div>\n",
    "    <div class=\"file\" style=\"margin-top: 5px; margin-left: 25px;\">\n",
    "      <span class=\"icon\">📄</span>label.pt\n",
    "    </div>\n",
    "  </div>\n",
    "</div>\n"
   ]
  },
  {
   "cell_type": "code",
   "execution_count": 2,
   "id": "62640ce2-2cad-4df1-9f6d-26b62b71a24e",
   "metadata": {},
   "outputs": [],
   "source": [
    "prot_dic,prot_chains=get_data(pdb_file='7W15',rscb=True)"
   ]
  },
  {
   "cell_type": "code",
   "execution_count": 3,
   "id": "fc8ac91e-b982-4d00-8fe6-041ee5e0d4ea",
   "metadata": {},
   "outputs": [],
   "source": [
    "sparse_coord,sparse_feature,information=get_coordinates_features(vertex_dict=prot_dic,chain=prot_chains)"
   ]
  },
  {
   "cell_type": "code",
   "execution_count": 4,
   "id": "11dcd09d-1fd2-4656-82b6-2b238ba62ccf",
   "metadata": {},
   "outputs": [],
   "source": [
    "ligand_dict=get_HET_ATOM(pdb_file='7W15',ligand_name='GTP',rscb=True)"
   ]
  },
  {
   "cell_type": "code",
   "execution_count": 5,
   "id": "3e106e43-d2b5-44ae-be3b-5bbaab71438c",
   "metadata": {},
   "outputs": [
    {
     "data": {
      "text/plain": [
       "(tensor([[ 0, 16, 35],\n",
       "         [ 1, 14, 34],\n",
       "         [ 1, 15, 36],\n",
       "         ...,\n",
       "         [95, 48, 37],\n",
       "         [95, 50, 51],\n",
       "         [96, 45, 37]]),\n",
       " tensor([[0., 1., 0.,  ..., 0., 0., 0.],\n",
       "         [0., 1., 0.,  ..., 0., 0., 0.],\n",
       "         [0., 1., 0.,  ..., 0., 0., 0.],\n",
       "         ...,\n",
       "         [0., 0., 0.,  ..., 1., 0., 0.],\n",
       "         [0., 0., 0.,  ..., 1., 1., 0.],\n",
       "         [0., 0., 0.,  ..., 1., 1., 0.]], dtype=torch.float64))"
      ]
     },
     "execution_count": 5,
     "metadata": {},
     "output_type": "execute_result"
    }
   ],
   "source": [
    "sparse_coord,sparse_feature"
   ]
  },
  {
   "cell_type": "code",
   "execution_count": 6,
   "id": "b3830e78-8380-4583-9fe3-6cbe565de01f",
   "metadata": {},
   "outputs": [],
   "source": [
    "dataset=SparseDataset(path='sparse/')"
   ]
  },
  {
   "cell_type": "code",
   "execution_count": 7,
   "id": "8c17c7a1-4c3e-41af-8dff-7ffa05b396c8",
   "metadata": {},
   "outputs": [
    {
     "ename": "ValueError",
     "evalue": "The truth value of an array with more than one element is ambiguous. Use a.any() or a.all()",
     "output_type": "error",
     "traceback": [
      "\u001b[0;31m---------------------------------------------------------------------------\u001b[0m",
      "\u001b[0;31mValueError\u001b[0m                                Traceback (most recent call last)",
      "Cell \u001b[0;32mIn [7], line 1\u001b[0m\n\u001b[0;32m----> 1\u001b[0m a,b\u001b[38;5;241m=\u001b[39m\u001b[43mget_trainVal_loder\u001b[49m\u001b[43m(\u001b[49m\u001b[43m)\u001b[49m\n",
      "File \u001b[0;32m~/PUResNetV2.0/puresnet/dataset.py:172\u001b[0m, in \u001b[0;36mget_trainVal_loder\u001b[0;34m(batch_size, num_workers)\u001b[0m\n\u001b[1;32m    171\u001b[0m \u001b[38;5;28;01mdef\u001b[39;00m \u001b[38;5;21mget_trainVal_loder\u001b[39m(batch_size\u001b[38;5;241m=\u001b[39m\u001b[38;5;241m80\u001b[39m,num_workers\u001b[38;5;241m=\u001b[39m\u001b[38;5;241m4\u001b[39m):\n\u001b[0;32m--> 172\u001b[0m     train_dataset,val_dataset\u001b[38;5;241m=\u001b[39m\u001b[43mget_trainVal\u001b[49m\u001b[43m(\u001b[49m\u001b[43m)\u001b[49m\n\u001b[1;32m    173\u001b[0m     train_loder\u001b[38;5;241m=\u001b[39mDataLoader(\n\u001b[1;32m    174\u001b[0m     train_dataset, batch_size\u001b[38;5;241m=\u001b[39mbatch_size,shuffle\u001b[38;5;241m=\u001b[39m\u001b[38;5;28;01mTrue\u001b[39;00m,pin_memory\u001b[38;5;241m=\u001b[39m\u001b[38;5;28;01mTrue\u001b[39;00m,collate_fn\u001b[38;5;241m=\u001b[39mcustom_collation_fn,num_workers\u001b[38;5;241m=\u001b[39mnum_workers)\n\u001b[1;32m    175\u001b[0m     val_loder\u001b[38;5;241m=\u001b[39mDataLoader(\n\u001b[1;32m    176\u001b[0m     val_dataset, batch_size\u001b[38;5;241m=\u001b[39mbatch_size,shuffle\u001b[38;5;241m=\u001b[39m\u001b[38;5;28;01mTrue\u001b[39;00m,pin_memory\u001b[38;5;241m=\u001b[39m\u001b[38;5;28;01mTrue\u001b[39;00m,collate_fn\u001b[38;5;241m=\u001b[39mcustom_collation_fn,num_workers\u001b[38;5;241m=\u001b[39mnum_workers)\n",
      "File \u001b[0;32m~/PUResNetV2.0/puresnet/dataset.py:167\u001b[0m, in \u001b[0;36mget_trainVal\u001b[0;34m()\u001b[0m\n\u001b[1;32m    165\u001b[0m train_data \u001b[38;5;241m=\u001b[39m np\u001b[38;5;241m.\u001b[39mload(pkg_resources\u001b[38;5;241m.\u001b[39mresource_filename(\u001b[38;5;124m'\u001b[39m\u001b[38;5;124mpuresnet\u001b[39m\u001b[38;5;124m'\u001b[39m, \u001b[38;5;124m'\u001b[39m\u001b[38;5;124mdata/training_data.npy\u001b[39m\u001b[38;5;124m'\u001b[39m))\n\u001b[1;32m    166\u001b[0m val_data\u001b[38;5;241m=\u001b[39m np\u001b[38;5;241m.\u001b[39mload(pkg_resources\u001b[38;5;241m.\u001b[39mresource_filename(\u001b[38;5;124m'\u001b[39m\u001b[38;5;124mpuresnet\u001b[39m\u001b[38;5;124m'\u001b[39m, \u001b[38;5;124m'\u001b[39m\u001b[38;5;124mdata/validation_data.npy\u001b[39m\u001b[38;5;124m'\u001b[39m))\n\u001b[0;32m--> 167\u001b[0m train_dataset\u001b[38;5;241m=\u001b[39m\u001b[43mSparseDataset\u001b[49m\u001b[43m(\u001b[49m\u001b[43mpath\u001b[49m\u001b[38;5;241;43m=\u001b[39;49m\u001b[38;5;124;43m'\u001b[39;49m\u001b[38;5;124;43msparse\u001b[39;49m\u001b[38;5;124;43m'\u001b[39;49m\u001b[43m,\u001b[49m\u001b[43mpdbs\u001b[49m\u001b[38;5;241;43m=\u001b[39;49m\u001b[43mtrain_data\u001b[49m\u001b[43m,\u001b[49m\u001b[38;5;28;43mset\u001b[39;49m\u001b[38;5;241;43m=\u001b[39;49m\u001b[38;5;124;43m'\u001b[39;49m\u001b[38;5;124;43mTrain\u001b[39;49m\u001b[38;5;124;43m'\u001b[39;49m\u001b[43m)\u001b[49m\n\u001b[1;32m    168\u001b[0m val_dataset\u001b[38;5;241m=\u001b[39mSparseDataset(path\u001b[38;5;241m=\u001b[39m\u001b[38;5;124m'\u001b[39m\u001b[38;5;124msparse\u001b[39m\u001b[38;5;124m'\u001b[39m,pdbs\u001b[38;5;241m=\u001b[39mval_data,\u001b[38;5;28mset\u001b[39m\u001b[38;5;241m=\u001b[39m\u001b[38;5;124m'\u001b[39m\u001b[38;5;124mVal\u001b[39m\u001b[38;5;124m'\u001b[39m)\n\u001b[1;32m    169\u001b[0m \u001b[38;5;28;01mreturn\u001b[39;00m train_dataset,val_dataset\n",
      "File \u001b[0;32m~/PUResNetV2.0/puresnet/dataset.py:39\u001b[0m, in \u001b[0;36mSparseDataset.__init__\u001b[0;34m(self, path, pdbs, set)\u001b[0m\n\u001b[1;32m     37\u001b[0m \u001b[38;5;28mself\u001b[39m\u001b[38;5;241m.\u001b[39mset\u001b[38;5;241m=\u001b[39m\u001b[38;5;28mset\u001b[39m\n\u001b[1;32m     38\u001b[0m \u001b[38;5;28mself\u001b[39m\u001b[38;5;241m.\u001b[39mpath\u001b[38;5;241m=\u001b[39mpath\n\u001b[0;32m---> 39\u001b[0m \u001b[38;5;28;01mif\u001b[39;00m pdbs\u001b[38;5;241m==\u001b[39m\u001b[38;5;28;01mNone\u001b[39;00m:\n\u001b[1;32m     40\u001b[0m     \u001b[38;5;28mself\u001b[39m\u001b[38;5;241m.\u001b[39mpaths\u001b[38;5;241m=\u001b[39mos\u001b[38;5;241m.\u001b[39mlistdir(\u001b[38;5;28mself\u001b[39m\u001b[38;5;241m.\u001b[39mpath)\n\u001b[1;32m     41\u001b[0m \u001b[38;5;28;01melse\u001b[39;00m:\n",
      "\u001b[0;31mValueError\u001b[0m: The truth value of an array with more than one element is ambiguous. Use a.any() or a.all()"
     ]
    }
   ],
   "source": [
    "a,b=get_trainVal_loder()"
   ]
  },
  {
   "cell_type": "code",
   "execution_count": null,
   "id": "242f944b-b727-4ede-918b-72f6bab73b49",
   "metadata": {},
   "outputs": [],
   "source": []
  }
 ],
 "metadata": {
  "kernelspec": {
   "display_name": "Python 3 (ipykernel)",
   "language": "python",
   "name": "python3"
  },
  "language_info": {
   "codemirror_mode": {
    "name": "ipython",
    "version": 3
   },
   "file_extension": ".py",
   "mimetype": "text/x-python",
   "name": "python",
   "nbconvert_exporter": "python",
   "pygments_lexer": "ipython3",
   "version": "3.10.6"
  }
 },
 "nbformat": 4,
 "nbformat_minor": 5
}
