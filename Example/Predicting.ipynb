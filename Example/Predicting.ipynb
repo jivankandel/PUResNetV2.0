{
 "cells": [
  {
   "cell_type": "code",
   "execution_count": 7,
   "id": "37e6bae4-5314-4019-b873-c6c338235ad1",
   "metadata": {},
   "outputs": [],
   "source": [
    "from puresnet.predict import make_prediction"
   ]
  },
  {
   "cell_type": "markdown",
   "id": "d7304332-1844-4487-9744-bfb0aaff85ac",
   "metadata": {},
   "source": [
    "## Prediction with different modes"
   ]
  },
  {
   "cell_type": "code",
   "execution_count": 8,
   "id": "a7b207c9-a7a0-4089-8bc7-612aa0e75612",
   "metadata": {},
   "outputs": [],
   "source": [
    "make_prediction('5urv',rscb=True,mode='A',device=0)"
   ]
  },
  {
   "cell_type": "code",
   "execution_count": 9,
   "id": "019e3a7d-a53a-4b93-8e14-8f0d9bd83b64",
   "metadata": {},
   "outputs": [],
   "source": [
    "make_prediction('5urv',rscb=True,mode='B',device=0)"
   ]
  },
  {
   "cell_type": "code",
   "execution_count": 10,
   "id": "fff30ac5-d163-42f2-9b45-ad12d9cfb78c",
   "metadata": {},
   "outputs": [],
   "source": [
    "make_prediction('5urv',chain='B',rscb=True,mode='C',device=0)"
   ]
  },
  {
   "cell_type": "code",
   "execution_count": 11,
   "id": "257be9f5-57e3-4596-9cd9-72f25c6b08fd",
   "metadata": {},
   "outputs": [],
   "source": [
    "make_prediction('5urv',chain=['A','B'],rscb=True,mode='C',device=0)"
   ]
  }
 ],
 "metadata": {
  "kernelspec": {
   "display_name": "Python 3 (ipykernel)",
   "language": "python",
   "name": "python3"
  },
  "language_info": {
   "codemirror_mode": {
    "name": "ipython",
    "version": 3
   },
   "file_extension": ".py",
   "mimetype": "text/x-python",
   "name": "python",
   "nbconvert_exporter": "python",
   "pygments_lexer": "ipython3",
   "version": "3.10.6"
  }
 },
 "nbformat": 4,
 "nbformat_minor": 5
}
