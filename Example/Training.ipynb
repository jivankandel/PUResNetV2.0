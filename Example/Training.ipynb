{
 "cells": [
  {
   "cell_type": "code",
   "execution_count": 1,
   "id": "d9a0abbe-8f16-4753-8ed9-a735df330f90",
   "metadata": {},
   "outputs": [
    {
     "name": "stderr",
     "output_type": "stream",
     "text": [
      "/home/jeevan/anaconda3/envs/sparseconv/lib/python3.10/site-packages/MinkowskiEngine-0.5.4-py3.10-linux-x86_64.egg/MinkowskiEngine/__init__.py:36: UserWarning: The environment variable `OMP_NUM_THREADS` not set. MinkowskiEngine will automatically set `OMP_NUM_THREADS=16`. If you want to set `OMP_NUM_THREADS` manually, please export it on the command line before running a python script. e.g. `export OMP_NUM_THREADS=12; python your_program.py`. It is recommended to set it below 24.\n",
      "  warnings.warn(\n"
     ]
    }
   ],
   "source": [
    "from puresnet.dataset import download_data\n",
    "from puresnet.train import train"
   ]
  },
  {
   "cell_type": "markdown",
   "id": "80673ce9-953d-44ec-bda6-8ebf31263b3e",
   "metadata": {},
   "source": [
    "# Downloding Training Dataset"
   ]
  },
  {
   "cell_type": "markdown",
   "id": "c96f043f-ee08-445a-a49a-e926200b3942",
   "metadata": {},
   "source": [
    "### download_data() function will download file training_dataset.zip and extract it (sparse folder)"
   ]
  },
  {
   "cell_type": "code",
   "execution_count": null,
   "id": "437eb040-3bf2-45ab-970d-7f2774d89d87",
   "metadata": {},
   "outputs": [],
   "source": [
    "download_data()"
   ]
  },
  {
   "cell_type": "markdown",
   "id": "e69976eb-b683-48e5-a24a-577e78b47fcf",
   "metadata": {},
   "source": [
    "### The method train will save the training results in path provided also saves best model. "
   ]
  },
  {
   "cell_type": "code",
   "execution_count": null,
   "id": "6fab905e-5cc7-4eb3-bb2e-873969dbc6ff",
   "metadata": {},
   "outputs": [],
   "source": [
    "train(path_to_save='Training/',device=0,dataset_path='sparse/')"
   ]
  }
 ],
 "metadata": {
  "kernelspec": {
   "display_name": "Python 3 (ipykernel)",
   "language": "python",
   "name": "python3"
  },
  "language_info": {
   "codemirror_mode": {
    "name": "ipython",
    "version": 3
   },
   "file_extension": ".py",
   "mimetype": "text/x-python",
   "name": "python",
   "nbconvert_exporter": "python",
   "pygments_lexer": "ipython3",
   "version": "3.10.6"
  }
 },
 "nbformat": 4,
 "nbformat_minor": 5
}
